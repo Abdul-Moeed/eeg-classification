{
 "cells": [
  {
   "cell_type": "code",
   "execution_count": 1,
   "metadata": {},
   "outputs": [],
   "source": [
    "# ICA demo, based on: https://mne.tools/stable/auto_tutorials/preprocessing/plot_40_artifact_correction_ica.html\n",
    "\n",
    "import mne\n",
    "import os\n",
    "import numpy as np\n",
    "from mne import io\n",
    "import sys as sys\n",
    "sys.path.append('..')\n",
    "from estimators.linear import train_linear as estimator\n",
    "import pickle\n",
    "import matplotlib.pyplot as plt\n",
    "%matplotlib inline\n",
    "from mne.preprocessing import (ICA, create_eog_epochs, create_ecg_epochs,\n",
    "                               corrmap)"
   ]
  },
  {
   "cell_type": "code",
   "execution_count": 2,
   "metadata": {
    "scrolled": false
   },
   "outputs": [
    {
     "name": "stdout",
     "output_type": "stream",
     "text": [
      "Extracting EDF parameters from C:\\Users\\matth\\OneDrive\\Bureaublad\\mne_examples\\sample_data\\B0101T.gdf...\n",
      "GDF file detected\n",
      "Setting channel info structure...\n",
      "Creating raw.info structure...\n",
      "Reading 0 ... 604802  =      0.000 ...  2419.208 secs...\n"
     ]
    },
    {
     "name": "stderr",
     "output_type": "stream",
     "text": [
      "c:\\users\\matth\\miniconda3\\lib\\site-packages\\mne\\io\\edf\\edf.py:996: DeprecationWarning: The binary mode of fromstring is deprecated, as it behaves surprisingly on unicode inputs. Use frombuffer instead\n",
      "  etmode = np.fromstring(etmode, np.uint8).tolist()[0]\n"
     ]
    },
    {
     "data": {
      "text/plain": [
       "<RawGDF  |  B0101T.gdf, n_channels x n_times : 6 x 604803 (2419.2 sec), ~27.7 MB, data loaded>"
      ]
     },
     "execution_count": 2,
     "metadata": {},
     "output_type": "execute_result"
    }
   ],
   "source": [
    "# read data\n",
    "\n",
    "#Get data path\n",
    "data_path = os.getcwd()+'/../sample_data/'\n",
    "\n",
    "\n",
    "# Setup for reading the raw data\n",
    "raw_fname = data_path + 'B0101T.gdf'\n",
    "raw = io.read_raw_gdf(raw_fname, preload=True)\n",
    "raw.set_channel_types({'EOG:ch01':'eog', 'EOG:ch02':'eog', 'EOG:ch03':'eog'})\n",
    "\n",
    "# Read montage/digitisation points\n",
    "raw_fname = data_path + 'GrazIV2B_montage.elc'\n",
    "montage=mne.channels.read_custom_montage(raw_fname)\n",
    "raw.set_montage(montage)\n",
    "\n",
    "#could take subset of data because ICA takes a lont time (but now we only have 3 EEG channels so it's fast anyway)\n",
    "#for this use raw.crop()\n"
   ]
  },
  {
   "cell_type": "code",
   "execution_count": null,
   "metadata": {},
   "outputs": [
    {
     "name": "stdout",
     "output_type": "stream",
     "text": [
      "EOG channel index for this subject is: [3 4 5]\n",
      "Filtering the data to remove DC offset to help distinguish blinks from saccades\n",
      "Setting up band-pass filter from 1 - 10 Hz\n",
      "\n",
      "FIR filter parameters\n",
      "---------------------\n",
      "Designing a two-pass forward and reverse, zero-phase, non-causal bandpass filter:\n",
      "- Windowed frequency-domain design (firwin2) method\n",
      "- Hann window\n",
      "- Lower passband edge: 1.00\n",
      "- Lower transition bandwidth: 0.50 Hz (-12 dB cutoff frequency: 0.75 Hz)\n",
      "- Upper passband edge: 10.00 Hz\n",
      "- Upper transition bandwidth: 0.50 Hz (-12 dB cutoff frequency: 10.25 Hz)\n",
      "- Filter length: 4096 samples (16.384 sec)\n",
      "\n",
      "Now detecting blinks and generating corresponding events\n",
      "Found 392 significant peaks\n",
      "Number of EOG events detected : 392\n",
      "392 matching events found\n",
      "No baseline correction applied\n",
      "Not setting metadata\n",
      "Loading data for 392 events and 251 original time points ...\n",
      "0 bad epochs dropped\n",
      "Applying baseline correction (mode: mean)\n"
     ]
    }
   ],
   "source": [
    "#get a summary of how the ocular artifact manifests across each channel type\n",
    "eog_evoked = create_eog_epochs(raw).average()\n",
    "eog_evoked.apply_baseline(baseline=(None, -0.2))\n",
    "eog_evoked.plot_joint()"
   ]
  },
  {
   "cell_type": "code",
   "execution_count": null,
   "metadata": {},
   "outputs": [],
   "source": [
    "#Filtering to remove slow drifts\n",
    "threshold = 5.\n",
    "filt_raw = raw.copy()\n",
    "filt_raw.load_data().filter(l_freq=threshold, h_freq=None)"
   ]
  },
  {
   "cell_type": "code",
   "execution_count": null,
   "metadata": {},
   "outputs": [],
   "source": [
    "#Fitting and plotting the ICA solution\n",
    "ica = ICA(n_components=3, random_state=97)\n",
    "ica.fit(filt_raw)\n",
    "\n",
    "raw.load_data()\n",
    "ica.plot_sources(raw)\n",
    "ica.plot_components()"
   ]
  },
  {
   "cell_type": "code",
   "execution_count": null,
   "metadata": {},
   "outputs": [],
   "source": [
    "# plot reconstructed signal with different components excluded\n",
    "\n",
    "ica.plot_overlay(raw, exclude=[0], picks='eeg')\n",
    "\n",
    "ica.plot_overlay(raw, exclude=[1], picks='eeg')\n",
    "\n",
    "ica.plot_overlay(raw, exclude=[2], picks='eeg')"
   ]
  },
  {
   "cell_type": "code",
   "execution_count": null,
   "metadata": {},
   "outputs": [],
   "source": [
    "ica.plot_properties(raw)"
   ]
  },
  {
   "cell_type": "code",
   "execution_count": null,
   "metadata": {},
   "outputs": [],
   "source": [
    "#remove component that correlates with EOG and reconstruct signal without it\n",
    "\n",
    "#set threshold!\n",
    "threshold=1.2\n",
    "\n",
    "ica.exclude = []\n",
    "# find which ICs match the EOG pattern\n",
    "eog_indices, eog_scores = ica.find_bads_eog(raw,threshold=threshold)\n",
    "#print(eog_indices)\n",
    "ica.exclude = eog_indices\n",
    "\n",
    "# barplot of IC component \"EOG match\" scores\n",
    "ica.plot_scores(eog_scores)\n",
    "\n",
    "# plot diagnostics\n",
    "ica.plot_properties(raw, picks=eog_indices)\n",
    "\n",
    "# plot ICs applied to raw data, with EOG matches highlighted\n",
    "ica.plot_sources(raw)\n",
    "\n",
    "# plot ICs applied to the averaged EOG epochs, with EOG matches highlighted\n",
    "ica.plot_sources(eog_evoked)"
   ]
  },
  {
   "cell_type": "code",
   "execution_count": null,
   "metadata": {
    "scrolled": true
   },
   "outputs": [],
   "source": [
    "#reconstruct signal\n",
    "reconst_raw = raw.copy()\n",
    "ica.apply(reconst_raw)\n",
    "\n",
    "raw.plot()\n",
    "reconst_raw.plot()"
   ]
  },
  {
   "cell_type": "code",
   "execution_count": null,
   "metadata": {},
   "outputs": [],
   "source": [
    "# Classifier reconstructed signal\n",
    "\n",
    "\n",
    "tmin, tmax = 2, 4  # time chosen from jupyter notebook\n",
    "event_id = {'left': 10, 'right': 11}\n",
    "\n",
    "# Setup for reading the raw data\n",
    "\n",
    "raw_data = reconst_raw.get_data()\n",
    "\n",
    "reconst_raw.filter(6, 14, fir_design='firwin')  # extract alpha band (see jupyter notebook)\n",
    "events, _ = mne.events_from_annotations(reconst_raw)\n",
    "\n",
    "# Read epochs\n",
    "epochs = mne.Epochs(reconst_raw, events, event_id, tmin, tmax-1/raw.info['sfreq'], proj=True, baseline=None,\n",
    "                    preload=True, picks=[0, 2])  # use only C3 and C4, they are different\n",
    "                                                 # MNE slicing for epochs INCLUDES the upper limit!!!\n",
    "labels = epochs.events[:, -1]\n",
    "\n",
    "# fit classifier\n",
    "best_est = estimator(epochs, labels)\n"
   ]
  },
  {
   "cell_type": "code",
   "execution_count": null,
   "metadata": {},
   "outputs": [],
   "source": []
  },
  {
   "cell_type": "code",
   "execution_count": null,
   "metadata": {},
   "outputs": [],
   "source": []
  }
 ],
 "metadata": {
  "kernelspec": {
   "display_name": "Python 3",
   "language": "python",
   "name": "python3"
  },
  "language_info": {
   "codemirror_mode": {
    "name": "ipython",
    "version": 3
   },
   "file_extension": ".py",
   "mimetype": "text/x-python",
   "name": "python",
   "nbconvert_exporter": "python",
   "pygments_lexer": "ipython3",
   "version": "3.7.4"
  }
 },
 "nbformat": 4,
 "nbformat_minor": 2
}
