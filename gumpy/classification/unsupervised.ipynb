{
 "cells": [
  {
   "cell_type": "code",
   "execution_count": 1,
   "metadata": {},
   "outputs": [],
   "source": [
    "from abc import ABC, abstractmethod\n",
    "from sklearn.metrics import classification_report\n",
    "from sklearn.ensemble import VotingClassifier\n",
    "from mlxtend.feature_selection import SequentialFeatureSelector as SFS\n",
    "import numpy as np\n",
    "from sklearn import datasets\n",
    "import matplotlib.pyplot as plt\n",
    "from sklearn import datasets\n",
    "from sklearn.cluster import KMeans\n",
    "from scipy.cluster.hierarchy import linkage, dendrogram\n",
    "import matplotlib.pyplot as plt\n",
    "import pandas as pd\n",
    "from sklearn import datasets\n",
    "from sklearn.manifold import TSNE\n",
    "import matplotlib.pyplot as plt\n",
    "from scipy.cluster.hierarchy import linkage, dendrogram\n",
    "import matplotlib.pyplot as plt\n",
    "import pandas as pd\n",
    "def Kmeans (n_clusters, X_train, X_test): \n",
    "    model = KMeans(n_clusters)\n",
    "    model.fit(X_train)\n",
    "    predicted_label = model.predict(X_test)\n",
    "    return (predicted_label) \n",
    "     \n",
    "    \n",
    "def TSNE(X_train, target): \n",
    "    model = TSNE(learning_rate=100)\n",
    "    transformed = model.fit_transform(X_train)\n",
    "    # Plotting 2d t-Sne\n",
    "    x_axis = transformed[:, 0]\n",
    "    y_axis = transformed[:, 1]\n",
    "    plt.scatter(x_axis, y_axis, c=target)\n",
    "    plt.show()\n",
    "    \n",
    "def HClustering (samples, label_names):\n",
    "    mergings = linkage(samples, method='complete')\n",
    "    dendrogram(mergings,\n",
    "           labels=labels_names,\n",
    "           leaf_rotation=90,\n",
    "           leaf_font_size=6,\n",
    "           )\n",
    "\n",
    "    plt.show()"
   ]
  },
  {
   "cell_type": "code",
   "execution_count": null,
   "metadata": {},
   "outputs": [],
   "source": []
  }
 ],
 "metadata": {
  "kernelspec": {
   "display_name": "Python 3",
   "language": "python",
   "name": "python3"
  },
  "language_info": {
   "codemirror_mode": {
    "name": "ipython",
    "version": 3
   },
   "file_extension": ".py",
   "mimetype": "text/x-python",
   "name": "python",
   "nbconvert_exporter": "python",
   "pygments_lexer": "ipython3",
   "version": "3.7.1"
  }
 },
 "nbformat": 4,
 "nbformat_minor": 2
}
